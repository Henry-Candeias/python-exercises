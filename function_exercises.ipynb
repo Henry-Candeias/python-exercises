{
 "cells": [
  {
   "cell_type": "markdown",
   "id": "b0411e3f",
   "metadata": {},
   "source": [
    "Define a function named is_two. \n",
    "\n",
    "It should accept one input and return True if the passed input is either the number or the string 2, False otherwise."
   ]
  },
  {
   "cell_type": "code",
   "execution_count": 115,
   "id": "2a72599a",
   "metadata": {},
   "outputs": [
    {
     "data": {
      "text/plain": [
       "True"
      ]
     },
     "execution_count": 115,
     "metadata": {},
     "output_type": "execute_result"
    }
   ],
   "source": [
    "def is_two(input_value):\n",
    "    return input_value == 2 or input_value == \"2\" or input_value == 2.0 # checks to see if the input value is the number to or the string 2 or the float 2.0\n",
    "is_two(2.0)"
   ]
  },
  {
   "cell_type": "markdown",
   "id": "77411b5b",
   "metadata": {},
   "source": [
    "Define a function named is_vowel. \n",
    "\n",
    "It should return True if the passed string is a vowel, False otherwise."
   ]
  },
  {
   "cell_type": "code",
   "execution_count": 119,
   "id": "ecd6cb19",
   "metadata": {},
   "outputs": [
    {
     "data": {
      "text/plain": [
       "True"
      ]
     },
     "execution_count": 119,
     "metadata": {},
     "output_type": "execute_result"
    }
   ],
   "source": [
    "def is_vowel(char):\n",
    "    # checks if char matches any of these string vowels\n",
    "    return char == 'A' or char == 'a' or char == 'E' or char == 'e' or char == 'I' or char == 'i' or char == 'O' or char == 'o' or char == 'U' or char == 'u'\n",
    "is_vowel('a')"
   ]
  },
  {
   "cell_type": "markdown",
   "id": "2a907fd8",
   "metadata": {},
   "source": [
    "Define a function named is_consonant. It should return True if the passed string is a consonant, False otherwise. Use your is_vowel function to accomplish this."
   ]
  },
  {
   "cell_type": "code",
   "execution_count": 80,
   "id": "7f8792be",
   "metadata": {},
   "outputs": [
    {
     "name": "stdout",
     "output_type": "stream",
     "text": [
      "True\n"
     ]
    }
   ],
   "source": [
    "def is_consonant(char):\n",
    "    return char.isalpha() and not is_vowel(char) #ensures character is aplhabetic and is not a vowel\n",
    "print(is_consonant('B'))"
   ]
  },
  {
   "cell_type": "markdown",
   "id": "5635d5d8",
   "metadata": {},
   "source": [
    "Define a function that accepts a string that is a word. The function should capitalize the first letter of the word if the word starts with a consonant."
   ]
  },
  {
   "cell_type": "code",
   "execution_count": 86,
   "id": "bd966b94",
   "metadata": {},
   "outputs": [
    {
     "name": "stdout",
     "output_type": "stream",
     "text": [
      "Codeup\n"
     ]
    }
   ],
   "source": [
    "def cap_if_consonant(word):\n",
    "    #checks that the first char in a word is alphabetic and not a vowel\n",
    "    if word and word[0].isalpha() and not word[0].lower() in \"a, e, i, o, u\":\n",
    "        return word[0].upper() + word[1:] # Uppercases the first character in the word and then returns the rest of the word in lowercase\n",
    "    else:\n",
    "        return word\n",
    "\n",
    "# Testing\n",
    "word = \"codeup\"\n",
    "result = cap_if_consonant(word)\n",
    "print(result)"
   ]
  },
  {
   "cell_type": "markdown",
   "id": "5a2179b6",
   "metadata": {},
   "source": [
    "Define a function named calculate_tip. It should accept a tip percentage (a number between 0 and 1) and the bill total, and return the amount to tip."
   ]
  },
  {
   "cell_type": "code",
   "execution_count": 87,
   "id": "94e34f05",
   "metadata": {},
   "outputs": [
    {
     "name": "stdout",
     "output_type": "stream",
     "text": [
      "Tip amount: $20.00\n"
     ]
    }
   ],
   "source": [
    "def calculate_tip(tip_percentage, bill_total):\n",
    "    if 0 <= tip_percentage <= 1: # ensures the tip will be a valid percentage\n",
    "        tip_amount = tip_percentage * bill_total # calculates tip_amount with multiplication\n",
    "        return tip_amount\n",
    "    else:\n",
    "        return \"Invalid tip percentage, please enter a value between 0 and 1.\"\n",
    "\n",
    "# Test the function\n",
    "tip_percentage = 0.20\n",
    "bill_total = 100\n",
    "tip = calculate_tip(tip_percentage, bill_total)\n",
    "print(f\"Tip amount: ${tip:.2f}\")"
   ]
  },
  {
   "cell_type": "markdown",
   "id": "56e5ca4d",
   "metadata": {},
   "source": [
    "Define a function named apply_discount. It should accept a original price, and a discount percentage, and return the price after the discount is applied."
   ]
  },
  {
   "cell_type": "code",
   "execution_count": 89,
   "id": "f3e13170",
   "metadata": {},
   "outputs": [
    {
     "name": "stdout",
     "output_type": "stream",
     "text": [
      "Discounted price: $85.00\n"
     ]
    }
   ],
   "source": [
    "def apply_discount(original_price, discount_percentage):\n",
    "    if 0 <= discount_percentage <= 1: #ensures discount_percentage is between 0 and 1\n",
    "        discount_amount = discount_percentage * original_price #computes the discount amount\n",
    "        return discount_amount\n",
    "    else:\n",
    "        return \"Invalid discount percentage, please enter a value between 0 and 1.\"\n",
    "\n",
    "# Testing\n",
    "discount_percentage = 0.15\n",
    "original_price = 100\n",
    "discounted_price = original_price - apply_discount(original_price, discount_percentage)\n",
    "print(f\"Discounted price: ${discounted_price:.2f}\")"
   ]
  },
  {
   "cell_type": "markdown",
   "id": "e05452da",
   "metadata": {},
   "source": [
    "Define a function named handle_commas. It should accept a string that is a number that contains commas in it as input, and return a number as output."
   ]
  },
  {
   "cell_type": "code",
   "execution_count": 122,
   "id": "0d962392",
   "metadata": {},
   "outputs": [
    {
     "name": "stdout",
     "output_type": "stream",
     "text": [
      "1234567\n"
     ]
    }
   ],
   "source": [
    "def handle_commas(number_string):\n",
    "    # Remove commas and convert to a number\n",
    "    number_string = number_string.replace(\",\", \"\")\n",
    "    try:\n",
    "        number = int(number_string) #casting number_string to integer\n",
    "        return number\n",
    "    except ValueError:\n",
    "        try:\n",
    "            number = float(number_string) #casting number_string to floating-point\n",
    "            return number\n",
    "        except ValueError:\n",
    "            return \"Invalid input: not a valid number\"\n",
    "\n",
    "# Test the function\n",
    "input_string = '1,234,567'\n",
    "number = handle_commas(input_string)\n",
    "print(number)"
   ]
  },
  {
   "cell_type": "markdown",
   "id": "ffc43219",
   "metadata": {},
   "source": [
    "Define a function named get_letter_grade. It should accept a number and return the letter grade associated with that number (A-F)."
   ]
  },
  {
   "cell_type": "code",
   "execution_count": 101,
   "id": "1ddc6866",
   "metadata": {},
   "outputs": [
    {
     "name": "stdout",
     "output_type": "stream",
     "text": [
      "Letter grade: A\n"
     ]
    }
   ],
   "source": [
    "def get_letter_grade(score):\n",
    "    #checks to see if score is in the specified range and returns the appropriate letter grade\n",
    "    if 90 <= score <= 100:\n",
    "        return \"A\"\n",
    "    elif 80 <= score < 90:\n",
    "        return \"B\"\n",
    "    elif 70 <= score < 80:\n",
    "        return \"C\"\n",
    "    elif 60 <= score < 70:\n",
    "        return \"D\"\n",
    "    elif 0 <= score < 60:\n",
    "        return \"F\"\n",
    "    else:\n",
    "        return \"Invalid score: Score must be between 0 and 100\"\n",
    "\n",
    "# Testing\n",
    "score = 100\n",
    "letter_grade = get_letter_grade(score)\n",
    "print(f\"Letter grade: {letter_grade}\")"
   ]
  },
  {
   "cell_type": "markdown",
   "id": "91331fa0",
   "metadata": {},
   "source": [
    "Define a function named remove_vowels that accepts a string and returns a string with all the vowels removed."
   ]
  },
  {
   "cell_type": "code",
   "execution_count": 102,
   "id": "f80420f7",
   "metadata": {},
   "outputs": [
    {
     "name": "stdout",
     "output_type": "stream",
     "text": [
      "Hll Wrld!\n"
     ]
    }
   ],
   "source": [
    "def remove_vowels(input_string):\n",
    "    # Remove vowels from string input\n",
    "    vowels = \"AEIOUaeiou\"\n",
    "    result = ''.join([char for char in input_string if char not in vowels])\n",
    "    return result\n",
    "\n",
    "# Testing function\n",
    "input_string = \"Hello World!\"\n",
    "new_string = remove_vowels(input_string)\n",
    "print(new_string)"
   ]
  },
  {
   "cell_type": "markdown",
   "id": "5dfcbef7",
   "metadata": {},
   "source": [
    "Define a function named normalize_name. It should accept a string and return a valid python identifier, that is:\n",
    "anything that is not a valid python identifier should be removed\n",
    "leading and trailing whitespace should be removed\n",
    "everything should be lowercase\n",
    "spaces should be replaced with underscores\n",
    "for example:\n",
    "Name will become name\n",
    "First Name will become first_name\n",
    "% Completed will become completed"
   ]
  },
  {
   "cell_type": "code",
   "execution_count": 123,
   "id": "6a468d72",
   "metadata": {},
   "outputs": [
    {
     "name": "stdout",
     "output_type": "stream",
     "text": [
      "first_name_henry\n"
     ]
    }
   ],
   "source": [
    "import re #imports more python functions\n",
    "\n",
    "\n",
    "def normalize_name(input_string):\n",
    "    \n",
    "    normalized = input_string.strip().lower() #takes away white spaces and makes characters lower cased.\n",
    "    \n",
    "    normalized = normalized.replace(\" \", \"_\") #replaces spaces with underscores\n",
    "    \n",
    "    normalized = re.sub(r'[^a-zA-Z0-9_]', '', normalized) #Return the string obtained by replacing the leftmost non-overlapping occurrences of the pattern in string by the replacement repl.  repl can be either a string or a callable;\n",
    "    \n",
    "    return normalized\n",
    "\n",
    "\n",
    "# Test the funtion\n",
    "input_string = \"   %First Name Henry\"\n",
    "normalized_string = normalize_name(input_string)\n",
    "print(normalized_string)"
   ]
  },
  {
   "cell_type": "markdown",
   "id": "c3d48caf",
   "metadata": {},
   "source": [
    "Write a function named cumulative_sum that accepts a list of numbers and returns a list that is the cumulative sum of the numbers in the list.\n",
    "cumulative_sum([1, 1, 1]) returns [1, 2, 3]\n",
    "cumulative_sum([1, 2, 3, 4]) returns [1, 3, 6, 10]"
   ]
  },
  {
   "cell_type": "code",
   "execution_count": 110,
   "id": "9df64b32",
   "metadata": {},
   "outputs": [
    {
     "name": "stdout",
     "output_type": "stream",
     "text": [
      "[1, 2, 3]\n",
      "[1, 3, 6, 10]\n"
     ]
    }
   ],
   "source": [
    "def cumulative_sum(numbers):\n",
    "    #initializing the variables\n",
    "    cumulative = []\n",
    "    total = 0\n",
    "    for number in numbers:\n",
    "        #computes the total by adding each number and appends the total\n",
    "        total += number\n",
    "        cumulative.append(total)\n",
    "    return cumulative\n",
    "\n",
    "# Testing\n",
    "result1 = cumulative_sum([1, 1, 1])\n",
    "print(result1)\n",
    "\n",
    "result2 = cumulative_sum([1, 2, 3, 4])\n",
    "print(result2)"
   ]
  },
  {
   "cell_type": "code",
   "execution_count": null,
   "id": "a1197061",
   "metadata": {},
   "outputs": [],
   "source": []
  }
 ],
 "metadata": {
  "kernelspec": {
   "display_name": "Python 3 (ipykernel)",
   "language": "python",
   "name": "python3"
  },
  "language_info": {
   "codemirror_mode": {
    "name": "ipython",
    "version": 3
   },
   "file_extension": ".py",
   "mimetype": "text/x-python",
   "name": "python",
   "nbconvert_exporter": "python",
   "pygments_lexer": "ipython3",
   "version": "3.11.5"
  }
 },
 "nbformat": 4,
 "nbformat_minor": 5
}
