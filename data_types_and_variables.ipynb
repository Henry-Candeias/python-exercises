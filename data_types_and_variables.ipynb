{
 "cells": [
  {
   "cell_type": "markdown",
   "id": "07524a44",
   "metadata": {},
   "source": [
    " Identify the data type of the following values:"
   ]
  },
  {
   "cell_type": "code",
   "execution_count": 1,
   "id": "e04cc6a1",
   "metadata": {},
   "outputs": [
    {
     "data": {
      "text/plain": [
       "float"
      ]
     },
     "execution_count": 1,
     "metadata": {},
     "output_type": "execute_result"
    }
   ],
   "source": [
    "type(99.9)"
   ]
  },
  {
   "cell_type": "code",
   "execution_count": 2,
   "id": "06ee8832",
   "metadata": {},
   "outputs": [
    {
     "data": {
      "text/plain": [
       "str"
      ]
     },
     "execution_count": 2,
     "metadata": {},
     "output_type": "execute_result"
    }
   ],
   "source": [
    "type(\"False\")"
   ]
  },
  {
   "cell_type": "code",
   "execution_count": 3,
   "id": "0ec45ce9",
   "metadata": {},
   "outputs": [
    {
     "data": {
      "text/plain": [
       "bool"
      ]
     },
     "execution_count": 3,
     "metadata": {},
     "output_type": "execute_result"
    }
   ],
   "source": [
    "type(False)"
   ]
  },
  {
   "cell_type": "code",
   "execution_count": 4,
   "id": "d5c7e1fc",
   "metadata": {},
   "outputs": [
    {
     "data": {
      "text/plain": [
       "str"
      ]
     },
     "execution_count": 4,
     "metadata": {},
     "output_type": "execute_result"
    }
   ],
   "source": [
    "type('0')"
   ]
  },
  {
   "cell_type": "code",
   "execution_count": 5,
   "id": "668adfcd",
   "metadata": {},
   "outputs": [
    {
     "data": {
      "text/plain": [
       "int"
      ]
     },
     "execution_count": 5,
     "metadata": {},
     "output_type": "execute_result"
    }
   ],
   "source": [
    "type(0)"
   ]
  },
  {
   "cell_type": "code",
   "execution_count": 6,
   "id": "93092a8c",
   "metadata": {},
   "outputs": [
    {
     "data": {
      "text/plain": [
       "bool"
      ]
     },
     "execution_count": 6,
     "metadata": {},
     "output_type": "execute_result"
    }
   ],
   "source": [
    "type(True)"
   ]
  },
  {
   "cell_type": "code",
   "execution_count": 7,
   "id": "df128eab",
   "metadata": {},
   "outputs": [
    {
     "data": {
      "text/plain": [
       "str"
      ]
     },
     "execution_count": 7,
     "metadata": {},
     "output_type": "execute_result"
    }
   ],
   "source": [
    "type('True')"
   ]
  },
  {
   "cell_type": "code",
   "execution_count": 8,
   "id": "3fb58ac2",
   "metadata": {},
   "outputs": [
    {
     "data": {
      "text/plain": [
       "list"
      ]
     },
     "execution_count": 8,
     "metadata": {},
     "output_type": "execute_result"
    }
   ],
   "source": [
    "type([{}])"
   ]
  },
  {
   "cell_type": "code",
   "execution_count": 9,
   "id": "64adfe6a",
   "metadata": {},
   "outputs": [
    {
     "data": {
      "text/plain": [
       "dict"
      ]
     },
     "execution_count": 9,
     "metadata": {},
     "output_type": "execute_result"
    }
   ],
   "source": [
    "type({'a': []})"
   ]
  },
  {
   "cell_type": "markdown",
   "id": "9b122e34",
   "metadata": {},
   "source": [
    "What data type would best represent the following?\n",
    "\n",
    "A term or phrase typed into a search box?\n",
    "Whether or not a user is logged in?\n",
    "A discount amount to apply to a user's shopping cart?\n",
    "Whether or not a coupon code is valid?\n",
    "An email address typed into a registration form?\n",
    "The price of a product?\n",
    "The email addresses collected from a registration form?\n",
    "Information about applicants to Codeup's data science program?"
   ]
  },
  {
   "cell_type": "code",
   "execution_count": 11,
   "id": "054cc00e",
   "metadata": {},
   "outputs": [],
   "source": [
    "#String, Boolean, Float, Boolean, String, Float, String, String"
   ]
  },
  {
   "cell_type": "markdown",
   "id": "dbc6c76c",
   "metadata": {},
   "source": [
    "Describe the following scenarios. You will need to create and assign variables and use operators.\n",
    "\n",
    "4. You have rented some movies for your kids:\n",
    "\n",
    "The Little Mermaid for 3 days.\n",
    "\n",
    "Brother Bear for 5 days.\n",
    "\n",
    "Hercules for 1 day.\n",
    "\n",
    "If the daily fee to rent a movie is 3 dollars, how much will you have to pay?"
   ]
  },
  {
   "cell_type": "code",
   "execution_count": 13,
   "id": "79627a29",
   "metadata": {},
   "outputs": [
    {
     "name": "stdout",
     "output_type": "stream",
     "text": [
      "27\n"
     ]
    }
   ],
   "source": [
    "daily_rent_fee = 3\n",
    "little_mermaid = 3\n",
    "brother_bear = 5\n",
    "hercules = 1\n",
    "total_to_pay = (daily_rent_fee * little_mermaid) + (daily_rent_fee * brother_bear) + (daily_rent_fee * hercules)\n",
    "print(total_to_pay)"
   ]
  },
  {
   "cell_type": "markdown",
   "id": "b908b598",
   "metadata": {},
   "source": [
    "Suppose you're working as a contractor for 3 companies: Google, Amazon and Facebook.\n",
    "\n",
    "They pay you the following hourly rates:\n",
    "\n",
    "Google: 400 dollars\n",
    "    \n",
    "Amazon: 380 dollars\n",
    "    \n",
    "Facebook: 350 dollars\n",
    "    \n",
    "This week you worked: 10 hours for Facebook, 6 hours for Google, and 4 hours for Amazon.\n",
    "\n",
    "How much will you receive in payment for this week?"
   ]
  },
  {
   "cell_type": "code",
   "execution_count": 14,
   "id": "591bc7cc",
   "metadata": {},
   "outputs": [
    {
     "name": "stdout",
     "output_type": "stream",
     "text": [
      "7420\n"
     ]
    }
   ],
   "source": [
    "google_rate = 400\n",
    "\n",
    "amazon_rate = 380\n",
    "\n",
    "facebook_rate = 350\n",
    "\n",
    "google_hours = 6\n",
    "\n",
    "amazon_hours = 4\n",
    "\n",
    "facebook_hours = 10\n",
    "\n",
    "payment = (google_rate * google_hours) + (amazon_rate * amazon_hours) + (facebook_rate * facebook_hours)\n",
    "\n",
    "print(payment)"
   ]
  },
  {
   "cell_type": "markdown",
   "id": "d03277c4",
   "metadata": {},
   "source": [
    " A student can be enrolled in a class only if the class is not full and the class schedule does not conflict with her current schedule."
   ]
  },
  {
   "cell_type": "code",
   "execution_count": 24,
   "id": "d34a3bf1",
   "metadata": {},
   "outputs": [
    {
     "name": "stdout",
     "output_type": "stream",
     "text": [
      "True\n"
     ]
    }
   ],
   "source": [
    "class_not_full = True\n",
    "\n",
    "schedule_conflict = False\n",
    "\n",
    "student_can_enroll = class_not_full and not schedule_conflict\n",
    "\n",
    "print(student_can_enroll)"
   ]
  },
  {
   "cell_type": "markdown",
   "id": "d114e465",
   "metadata": {},
   "source": [
    "A product offer can be applied only if a customer buys more than 2 items, and the offer has not expired. Premium members do not need to buy a specific amount of products."
   ]
  },
  {
   "cell_type": "code",
   "execution_count": 25,
   "id": "357ad607",
   "metadata": {},
   "outputs": [
    {
     "name": "stdout",
     "output_type": "stream",
     "text": [
      "True\n"
     ]
    }
   ],
   "source": [
    "buys_more_than_2 = True\n",
    "\n",
    "offer_expired = False\n",
    "\n",
    "product_offer_can_be_applied = buys_more_than_2 and not offer_expired\n",
    "\n",
    "print(product_offer_can_be_applied)"
   ]
  },
  {
   "cell_type": "markdown",
   "id": "54759ee3",
   "metadata": {},
   "source": [
    "Use the following code to follow the instructions below:\n",
    "\n",
    "\n",
    "username = 'codeup'\n",
    "\n",
    "password = 'notastrongpassword'\n",
    "\n",
    "Create a variable that holds a boolean value for each of the following conditions:\n",
    "\n",
    "The password must be at least 5 characters.\n",
    "\n",
    "The username must be no more than 20 characters.\n",
    "\n",
    "The password must not be the same as the username.\n",
    "\n"
   ]
  },
  {
   "cell_type": "code",
   "execution_count": 27,
   "id": "94bd6ef6",
   "metadata": {},
   "outputs": [
    {
     "name": "stdout",
     "output_type": "stream",
     "text": [
      "Condition 1 (Password length >= 5): True\n",
      "Condition 2 (Username length <= 20): True\n",
      "Condition 3 (Password is different from Username): True\n"
     ]
    }
   ],
   "source": [
    "username = 'codeup'\n",
    "password = 'notastrongpassword'\n",
    "\n",
    "# Condition 1: The password must be at least 5 characters\n",
    "is_valid_password_length = len(password) >= 5\n",
    "\n",
    "# Condition 2: The username must be no more than 20 characters\n",
    "is_valid_username_length = len(username) <= 20\n",
    "\n",
    "# Condition 3: The password must not be the same as the username\n",
    "is_password_different_from_username = password != username\n",
    "\n",
    "# Print the boolean values for each condition\n",
    "print(\"Condition 1 (Password length >= 5):\", is_valid_password_length)\n",
    "print(\"Condition 2 (Username length <= 20):\", is_valid_username_length)\n",
    "print(\"Condition 3 (Password is different from Username):\", is_password_different_from_username)\n"
   ]
  },
  {
   "cell_type": "markdown",
   "id": "4d15e139",
   "metadata": {},
   "source": [
    "Bonus Neither the username or password can start nor end with whitespace"
   ]
  },
  {
   "cell_type": "code",
   "execution_count": 28,
   "id": "d775daf0",
   "metadata": {},
   "outputs": [
    {
     "name": "stdout",
     "output_type": "stream",
     "text": [
      "Condition 1 (Password length >= 5): True\n",
      "Condition 2 (Username length <= 20): True\n",
      "Condition 3 (Password is different from Username): True\n",
      "Bonus Condition (No whitespace at the start or end of username): True\n",
      "Bonus Condition (No whitespace at the start or end of password): True\n"
     ]
    }
   ],
   "source": [
    "username = 'codeup'\n",
    "password = 'notastrongpassword'\n",
    "\n",
    "# Condition 1: The password must be at least 5 characters\n",
    "is_valid_password_length = len(password) >= 5\n",
    "\n",
    "# Condition 2: The username must be no more than 20 characters\n",
    "is_valid_username_length = len(username) <= 20\n",
    "\n",
    "# Condition 3: The password must not be the same as the username\n",
    "is_password_different_from_username = password != username\n",
    "\n",
    "# Bonus Condition: Neither the username nor password can start or end with whitespace\n",
    "is_valid_username_no_whitespace = username == username.strip()\n",
    "is_valid_password_no_whitespace = password == password.strip()\n",
    "\n",
    "# Print the boolean values for each condition\n",
    "print(\"Condition 1 (Password length >= 5):\", is_valid_password_length)\n",
    "print(\"Condition 2 (Username length <= 20):\", is_valid_username_length)\n",
    "print(\"Condition 3 (Password is different from Username):\", is_password_different_from_username)\n",
    "print(\"Bonus Condition (No whitespace at the start or end of username):\", is_valid_username_no_whitespace)\n",
    "print(\"Bonus Condition (No whitespace at the start or end of password):\", is_valid_password_no_whitespace)\n"
   ]
  },
  {
   "cell_type": "code",
   "execution_count": null,
   "id": "ab7f4c6c",
   "metadata": {},
   "outputs": [],
   "source": []
  }
 ],
 "metadata": {
  "kernelspec": {
   "display_name": "Python 3 (ipykernel)",
   "language": "python",
   "name": "python3"
  },
  "language_info": {
   "codemirror_mode": {
    "name": "ipython",
    "version": 3
   },
   "file_extension": ".py",
   "mimetype": "text/x-python",
   "name": "python",
   "nbconvert_exporter": "python",
   "pygments_lexer": "ipython3",
   "version": "3.11.5"
  }
 },
 "nbformat": 4,
 "nbformat_minor": 5
}
